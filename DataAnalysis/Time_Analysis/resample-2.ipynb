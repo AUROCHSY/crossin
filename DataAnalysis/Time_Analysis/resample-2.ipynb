{
 "cells": [
  {
   "cell_type": "code",
   "execution_count": 1,
   "metadata": {
    "collapsed": true
   },
   "outputs": [],
   "source": [
    "from pandas import Series\n",
    "import numpy as np\n",
    "import pandas as pd"
   ]
  },
  {
   "cell_type": "code",
   "execution_count": 2,
   "metadata": {
    "collapsed": true
   },
   "outputs": [],
   "source": [
    "times = pd.date_range('20000101', periods=100, freq='T')"
   ]
  },
  {
   "cell_type": "code",
   "execution_count": 3,
   "metadata": {
    "collapsed": true
   },
   "outputs": [],
   "source": [
    "ts = Series(np.arange(100), index=times)"
   ]
  },
  {
   "cell_type": "code",
   "execution_count": 4,
   "metadata": {},
   "outputs": [
    {
     "data": {
      "text/plain": [
       "2000-01-01 00:00:00     0\n",
       "2000-01-01 00:01:00     1\n",
       "2000-01-01 00:02:00     2\n",
       "2000-01-01 00:03:00     3\n",
       "2000-01-01 00:04:00     4\n",
       "2000-01-01 00:05:00     5\n",
       "2000-01-01 00:06:00     6\n",
       "2000-01-01 00:07:00     7\n",
       "2000-01-01 00:08:00     8\n",
       "2000-01-01 00:09:00     9\n",
       "2000-01-01 00:10:00    10\n",
       "2000-01-01 00:11:00    11\n",
       "2000-01-01 00:12:00    12\n",
       "2000-01-01 00:13:00    13\n",
       "2000-01-01 00:14:00    14\n",
       "2000-01-01 00:15:00    15\n",
       "2000-01-01 00:16:00    16\n",
       "2000-01-01 00:17:00    17\n",
       "2000-01-01 00:18:00    18\n",
       "2000-01-01 00:19:00    19\n",
       "2000-01-01 00:20:00    20\n",
       "2000-01-01 00:21:00    21\n",
       "2000-01-01 00:22:00    22\n",
       "2000-01-01 00:23:00    23\n",
       "2000-01-01 00:24:00    24\n",
       "2000-01-01 00:25:00    25\n",
       "2000-01-01 00:26:00    26\n",
       "2000-01-01 00:27:00    27\n",
       "2000-01-01 00:28:00    28\n",
       "2000-01-01 00:29:00    29\n",
       "                       ..\n",
       "2000-01-01 01:10:00    70\n",
       "2000-01-01 01:11:00    71\n",
       "2000-01-01 01:12:00    72\n",
       "2000-01-01 01:13:00    73\n",
       "2000-01-01 01:14:00    74\n",
       "2000-01-01 01:15:00    75\n",
       "2000-01-01 01:16:00    76\n",
       "2000-01-01 01:17:00    77\n",
       "2000-01-01 01:18:00    78\n",
       "2000-01-01 01:19:00    79\n",
       "2000-01-01 01:20:00    80\n",
       "2000-01-01 01:21:00    81\n",
       "2000-01-01 01:22:00    82\n",
       "2000-01-01 01:23:00    83\n",
       "2000-01-01 01:24:00    84\n",
       "2000-01-01 01:25:00    85\n",
       "2000-01-01 01:26:00    86\n",
       "2000-01-01 01:27:00    87\n",
       "2000-01-01 01:28:00    88\n",
       "2000-01-01 01:29:00    89\n",
       "2000-01-01 01:30:00    90\n",
       "2000-01-01 01:31:00    91\n",
       "2000-01-01 01:32:00    92\n",
       "2000-01-01 01:33:00    93\n",
       "2000-01-01 01:34:00    94\n",
       "2000-01-01 01:35:00    95\n",
       "2000-01-01 01:36:00    96\n",
       "2000-01-01 01:37:00    97\n",
       "2000-01-01 01:38:00    98\n",
       "2000-01-01 01:39:00    99\n",
       "Freq: T, Length: 100, dtype: int64"
      ]
     },
     "execution_count": 4,
     "metadata": {},
     "output_type": "execute_result"
    }
   ],
   "source": [
    "ts"
   ]
  },
  {
   "cell_type": "code",
   "execution_count": 5,
   "metadata": {},
   "outputs": [
    {
     "data": {
      "text/html": [
       "<div>\n",
       "<style>\n",
       "    .dataframe thead tr:only-child th {\n",
       "        text-align: right;\n",
       "    }\n",
       "\n",
       "    .dataframe thead th {\n",
       "        text-align: left;\n",
       "    }\n",
       "\n",
       "    .dataframe tbody tr th {\n",
       "        vertical-align: top;\n",
       "    }\n",
       "</style>\n",
       "<table border=\"1\" class=\"dataframe\">\n",
       "  <thead>\n",
       "    <tr style=\"text-align: right;\">\n",
       "      <th></th>\n",
       "      <th>open</th>\n",
       "      <th>high</th>\n",
       "      <th>low</th>\n",
       "      <th>close</th>\n",
       "    </tr>\n",
       "  </thead>\n",
       "  <tbody>\n",
       "    <tr>\n",
       "      <th>2000-01-01 00:00:00</th>\n",
       "      <td>0</td>\n",
       "      <td>9</td>\n",
       "      <td>0</td>\n",
       "      <td>9</td>\n",
       "    </tr>\n",
       "    <tr>\n",
       "      <th>2000-01-01 00:10:00</th>\n",
       "      <td>10</td>\n",
       "      <td>19</td>\n",
       "      <td>10</td>\n",
       "      <td>19</td>\n",
       "    </tr>\n",
       "    <tr>\n",
       "      <th>2000-01-01 00:20:00</th>\n",
       "      <td>20</td>\n",
       "      <td>29</td>\n",
       "      <td>20</td>\n",
       "      <td>29</td>\n",
       "    </tr>\n",
       "    <tr>\n",
       "      <th>2000-01-01 00:30:00</th>\n",
       "      <td>30</td>\n",
       "      <td>39</td>\n",
       "      <td>30</td>\n",
       "      <td>39</td>\n",
       "    </tr>\n",
       "    <tr>\n",
       "      <th>2000-01-01 00:40:00</th>\n",
       "      <td>40</td>\n",
       "      <td>49</td>\n",
       "      <td>40</td>\n",
       "      <td>49</td>\n",
       "    </tr>\n",
       "    <tr>\n",
       "      <th>2000-01-01 00:50:00</th>\n",
       "      <td>50</td>\n",
       "      <td>59</td>\n",
       "      <td>50</td>\n",
       "      <td>59</td>\n",
       "    </tr>\n",
       "    <tr>\n",
       "      <th>2000-01-01 01:00:00</th>\n",
       "      <td>60</td>\n",
       "      <td>69</td>\n",
       "      <td>60</td>\n",
       "      <td>69</td>\n",
       "    </tr>\n",
       "    <tr>\n",
       "      <th>2000-01-01 01:10:00</th>\n",
       "      <td>70</td>\n",
       "      <td>79</td>\n",
       "      <td>70</td>\n",
       "      <td>79</td>\n",
       "    </tr>\n",
       "    <tr>\n",
       "      <th>2000-01-01 01:20:00</th>\n",
       "      <td>80</td>\n",
       "      <td>89</td>\n",
       "      <td>80</td>\n",
       "      <td>89</td>\n",
       "    </tr>\n",
       "    <tr>\n",
       "      <th>2000-01-01 01:30:00</th>\n",
       "      <td>90</td>\n",
       "      <td>99</td>\n",
       "      <td>90</td>\n",
       "      <td>99</td>\n",
       "    </tr>\n",
       "  </tbody>\n",
       "</table>\n",
       "</div>"
      ],
      "text/plain": [
       "                     open  high  low  close\n",
       "2000-01-01 00:00:00     0     9    0      9\n",
       "2000-01-01 00:10:00    10    19   10     19\n",
       "2000-01-01 00:20:00    20    29   20     29\n",
       "2000-01-01 00:30:00    30    39   30     39\n",
       "2000-01-01 00:40:00    40    49   40     49\n",
       "2000-01-01 00:50:00    50    59   50     59\n",
       "2000-01-01 01:00:00    60    69   60     69\n",
       "2000-01-01 01:10:00    70    79   70     79\n",
       "2000-01-01 01:20:00    80    89   80     89\n",
       "2000-01-01 01:30:00    90    99   90     99"
      ]
     },
     "execution_count": 5,
     "metadata": {},
     "output_type": "execute_result"
    }
   ],
   "source": [
    "ts.resample('10min', closed='left', label='left').ohlc()"
   ]
  }
 ],
 "metadata": {
  "kernelspec": {
   "display_name": "Python 3",
   "language": "python",
   "name": "python3"
  },
  "language_info": {
   "codemirror_mode": {
    "name": "ipython",
    "version": 3
   },
   "file_extension": ".py",
   "mimetype": "text/x-python",
   "name": "python",
   "nbconvert_exporter": "python",
   "pygments_lexer": "ipython3",
   "version": "3.6.1"
  }
 },
 "nbformat": 4,
 "nbformat_minor": 2
}
