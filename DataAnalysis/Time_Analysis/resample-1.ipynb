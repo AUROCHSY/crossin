{
 "cells": [
  {
   "cell_type": "code",
   "execution_count": 1,
   "metadata": {
    "collapsed": true
   },
   "outputs": [],
   "source": [
    "from pandas import Series\n",
    "import numpy as np\n",
    "import pandas as pd"
   ]
  },
  {
   "cell_type": "code",
   "execution_count": 2,
   "metadata": {
    "collapsed": true
   },
   "outputs": [],
   "source": [
    "dates = pd.date_range('2010-01-01', periods=200, freq='D')\n",
    "datas = Series(np.random.randn(200), index=dates)"
   ]
  },
  {
   "cell_type": "code",
   "execution_count": 3,
   "metadata": {},
   "outputs": [
    {
     "data": {
      "text/plain": [
       "2010-01-01    0.946570\n",
       "2010-01-02   -0.074605\n",
       "2010-01-03   -0.718010\n",
       "2010-01-04    0.586184\n",
       "2010-01-05    0.698814\n",
       "2010-01-06    2.150779\n",
       "2010-01-07    2.036266\n",
       "2010-01-08    0.705345\n",
       "2010-01-09    0.821161\n",
       "2010-01-10   -0.163008\n",
       "2010-01-11    0.191814\n",
       "2010-01-12   -0.282087\n",
       "2010-01-13   -0.486912\n",
       "2010-01-14    1.357436\n",
       "2010-01-15    1.481991\n",
       "2010-01-16    1.967434\n",
       "2010-01-17    0.351741\n",
       "2010-01-18   -0.607542\n",
       "2010-01-19    0.167547\n",
       "2010-01-20    1.264943\n",
       "2010-01-21   -0.544522\n",
       "2010-01-22   -0.135458\n",
       "2010-01-23    0.317506\n",
       "2010-01-24   -1.165843\n",
       "2010-01-25   -0.263372\n",
       "2010-01-26    1.653520\n",
       "2010-01-27    1.130635\n",
       "2010-01-28    2.277975\n",
       "2010-01-29    0.620671\n",
       "2010-01-30    0.412125\n",
       "                ...   \n",
       "2010-06-20    0.189395\n",
       "2010-06-21    0.106357\n",
       "2010-06-22   -1.757121\n",
       "2010-06-23    1.158774\n",
       "2010-06-24   -0.132427\n",
       "2010-06-25   -0.206147\n",
       "2010-06-26    0.711419\n",
       "2010-06-27    0.407581\n",
       "2010-06-28    0.458911\n",
       "2010-06-29    0.050659\n",
       "2010-06-30   -0.745616\n",
       "2010-07-01    0.367961\n",
       "2010-07-02    0.128620\n",
       "2010-07-03    0.030799\n",
       "2010-07-04    1.126167\n",
       "2010-07-05   -0.187987\n",
       "2010-07-06    0.732940\n",
       "2010-07-07    0.507957\n",
       "2010-07-08    0.115610\n",
       "2010-07-09    1.551838\n",
       "2010-07-10    2.445960\n",
       "2010-07-11    0.604688\n",
       "2010-07-12   -0.075191\n",
       "2010-07-13    0.528565\n",
       "2010-07-14   -0.147493\n",
       "2010-07-15   -0.788622\n",
       "2010-07-16    0.529173\n",
       "2010-07-17   -0.252755\n",
       "2010-07-18    0.733360\n",
       "2010-07-19    2.747907\n",
       "Freq: D, Length: 200, dtype: float64"
      ]
     },
     "execution_count": 3,
     "metadata": {},
     "output_type": "execute_result"
    }
   ],
   "source": [
    "datas"
   ]
  },
  {
   "cell_type": "code",
   "execution_count": 5,
   "metadata": {},
   "outputs": [
    {
     "data": {
      "text/plain": [
       "2010-01    2.277975\n",
       "2010-02    1.794340\n",
       "2010-03    2.676748\n",
       "2010-04    2.493880\n",
       "2010-05    2.619161\n",
       "2010-06    1.717970\n",
       "2010-07    2.747907\n",
       "Freq: M, dtype: float64"
      ]
     },
     "execution_count": 5,
     "metadata": {},
     "output_type": "execute_result"
    }
   ],
   "source": [
    "datas.resample('M', kind='period').max()"
   ]
  },
  {
   "cell_type": "code",
   "execution_count": 7,
   "metadata": {},
   "outputs": [
    {
     "data": {
      "text/plain": [
       "2010-01   -1.165843\n",
       "2010-02   -2.347117\n",
       "2010-03   -3.101256\n",
       "2010-04   -2.383595\n",
       "2010-05   -1.253323\n",
       "2010-06   -1.927072\n",
       "2010-07   -0.788622\n",
       "Freq: M, dtype: float64"
      ]
     },
     "execution_count": 7,
     "metadata": {},
     "output_type": "execute_result"
    }
   ],
   "source": [
    "datas.resample('M', kind='period').min()"
   ]
  }
 ],
 "metadata": {
  "kernelspec": {
   "display_name": "Python 3",
   "language": "python",
   "name": "python3"
  },
  "language_info": {
   "codemirror_mode": {
    "name": "ipython",
    "version": 3
   },
   "file_extension": ".py",
   "mimetype": "text/x-python",
   "name": "python",
   "nbconvert_exporter": "python",
   "pygments_lexer": "ipython3",
   "version": "3.6.1"
  }
 },
 "nbformat": 4,
 "nbformat_minor": 2
}
